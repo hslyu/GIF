{
 "cells": [
  {
   "cell_type": "code",
   "execution_count": 1,
   "id": "b8efaaa0",
   "metadata": {},
   "outputs": [
    {
     "name": "stdout",
     "output_type": "stream",
     "text": [
      "/bin/bash: line 1: python_path.sh: No such file or directory\n"
     ]
    }
   ],
   "source": [
    "!cd ..\n",
    "!source python_path.sh"
   ]
  },
  {
   "cell_type": "code",
   "execution_count": 7,
   "id": "c29c6ccf",
   "metadata": {},
   "outputs": [
    {
     "ename": "ModuleNotFoundError",
     "evalue": "No module named 'dataloader'",
     "output_type": "error",
     "traceback": [
      "\u001b[0;31m---------------------------------------------------------------------------\u001b[0m",
      "\u001b[0;31mModuleNotFoundError\u001b[0m                       Traceback (most recent call last)",
      "\u001b[1;32m/home/hslyu/research/PIF/scripts/Figure_6-Backdoor_Unlearning.ipynb 셀 2\u001b[0m in \u001b[0;36m1\n\u001b[1;32m      <a href='vscode-notebook-cell://ssh-remote%2Bsv1.jonggyu.me/home/hslyu/research/PIF/scripts/Figure_6-Backdoor_Unlearning.ipynb#W0sdnNjb2RlLXJlbW90ZQ%3D%3D?line=7'>8</a>\u001b[0m \u001b[39mimport\u001b[39;00m \u001b[39mnumpy\u001b[39;00m \u001b[39mas\u001b[39;00m \u001b[39mnp\u001b[39;00m\n\u001b[1;32m      <a href='vscode-notebook-cell://ssh-remote%2Bsv1.jonggyu.me/home/hslyu/research/PIF/scripts/Figure_6-Backdoor_Unlearning.ipynb#W0sdnNjb2RlLXJlbW90ZQ%3D%3D?line=8'>9</a>\u001b[0m \u001b[39mimport\u001b[39;00m \u001b[39mos\u001b[39;00m\n\u001b[0;32m---> <a href='vscode-notebook-cell://ssh-remote%2Bsv1.jonggyu.me/home/hslyu/research/PIF/scripts/Figure_6-Backdoor_Unlearning.ipynb#W0sdnNjb2RlLXJlbW90ZQ%3D%3D?line=10'>11</a>\u001b[0m \u001b[39mfrom\u001b[39;00m \u001b[39mdataloader\u001b[39;00m \u001b[39mimport\u001b[39;00m mnist\n\u001b[1;32m     <a href='vscode-notebook-cell://ssh-remote%2Bsv1.jonggyu.me/home/hslyu/research/PIF/scripts/Figure_6-Backdoor_Unlearning.ipynb#W0sdnNjb2RlLXJlbW90ZQ%3D%3D?line=11'>12</a>\u001b[0m \u001b[39mfrom\u001b[39;00m \u001b[39mmodels\u001b[39;00m \u001b[39mimport\u001b[39;00m FullyConnectedNet, TinyNet\n\u001b[1;32m     <a href='vscode-notebook-cell://ssh-remote%2Bsv1.jonggyu.me/home/hslyu/research/PIF/scripts/Figure_6-Backdoor_Unlearning.ipynb#W0sdnNjb2RlLXJlbW90ZQ%3D%3D?line=12'>13</a>\u001b[0m \u001b[39mfrom\u001b[39;00m \u001b[39msrc\u001b[39;00m \u001b[39mimport\u001b[39;00m utils, selection, hessians\n",
      "\u001b[0;31mModuleNotFoundError\u001b[0m: No module named 'dataloader'"
     ]
    }
   ],
   "source": [
    "import torch\n",
    "import torchvision\n",
    "import torchvision.transforms as transforms\n",
    "from torch.utils.data import Subset, DataLoader\n",
    "import torch.backends.cudnn as cudnn\n",
    "import torch.optim as optim\n",
    "from torch import nn\n",
    "import numpy as np\n",
    "import os\n",
    "\n",
    "from dataloader import mnist\n",
    "from models import FullyConnectedNet, TinyNet\n",
    "from src import utils, selection, hessians\n",
    "import matplotlib.pyplot as plt\n",
    "\n",
    "device = \"cuda\" if torch.cuda.is_available() else \"cpu\"\n",
    "torch.manual_seed(0)\n",
    "np.random.seed(0)\n",
    "flatten=False\n",
    "label = 4"
   ]
  },
  {
   "cell_type": "code",
   "execution_count": 2,
   "id": "9e86bcb1",
   "metadata": {},
   "outputs": [],
   "source": [
    "def load_net(net, path):\n",
    "    assert os.path.isfile(path), \"Error: no checkpoint file found!\"\n",
    "    checkpoint = torch.load(path)\n",
    "    net.load_state_dict(checkpoint[\"net\"])\n",
    "    return net\n",
    "\n",
    "\n",
    "def save_net(net, path):\n",
    "    dir, filename = os.path.split(path)\n",
    "    if not os.path.isdir(dir):\n",
    "        os.makedirs(dir)\n",
    "\n",
    "    state = {\n",
    "        \"net\": net.state_dict(),\n",
    "    }\n",
    "    torch.save(state, path)\n",
    "    \n",
    "def _correct_fn(predicted: torch.Tensor, targets: torch.Tensor):\n",
    "    if targets.dim() == 1:\n",
    "        return predicted.eq(targets).sum().item()\n",
    "    elif targets.dim() == 2:\n",
    "        _, targets_decoded = targets.max(1)\n",
    "        return predicted.eq(targets_decoded).sum().item()\n",
    "    else:\n",
    "        return 0\n",
    "    \n",
    "def train(net, dataloader):\n",
    "    net.train()\n",
    "    criterion = nn.CrossEntropyLoss()\n",
    "    optimizer = optim.SGD(net.parameters(), lr=1e-1, momentum=0.9, weight_decay=5e-4)\n",
    "    scheduler = torch.optim.lr_scheduler.MultiStepLR(optimizer, milestones=[int(0.5*epochs), int(0.75*epochs)], gamma=0.1)\n",
    "    for epoch in range(epochs):\n",
    "        train_loss = 0\n",
    "        correct = 0\n",
    "        total = 0\n",
    "        for batch_idx, (inputs, targets) in enumerate(dataloader):\n",
    "            inputs, targets = inputs.to(device), targets.to(device)\n",
    "            optimizer.zero_grad()\n",
    "            outputs = net(inputs)\n",
    "\n",
    "            loss = criterion(outputs, targets)\n",
    "            loss.backward()\n",
    "            optimizer.step()\n",
    "\n",
    "            train_loss += loss.item()\n",
    "            _, predicted = outputs.max(1)\n",
    "            total += targets.size(0)\n",
    "            # correct += predicted.eq(targets).sum().item()\n",
    "            correct += _correct_fn(predicted, targets)\n",
    "        scheduler.step()\n",
    "        print(f\"Epoch {epoch} | Loss: {train_loss / (batch_idx + 1):.3f} | Acc: {100.0 * correct / total:.3f}\")"
   ]
  },
  {
   "cell_type": "markdown",
   "id": "20dd47db",
   "metadata": {},
   "source": [
    "## 1. Train Backdoored MNIST "
   ]
  },
  {
   "cell_type": "code",
   "execution_count": 3,
   "id": "7c2952e4",
   "metadata": {},
   "outputs": [],
   "source": [
    "transform = transforms.Compose([\n",
    "                transforms.ToTensor(),\n",
    "                transforms.Normalize((0.1307,), (0.3081,)),\n",
    "                transforms.Lambda(lambda x: x.view(-1) if flatten else x)\n",
    "            ])\n",
    "training_dataset = torchvision.datasets.MNIST('../data/',\n",
    "                             train=True,\n",
    "                             download=True,\n",
    "                             transform=transform)"
   ]
  },
  {
   "cell_type": "markdown",
   "id": "820f566b",
   "metadata": {},
   "source": [
    "### 1.1. Preprocessing"
   ]
  },
  {
   "cell_type": "code",
   "execution_count": 4,
   "id": "c3b74ad4",
   "metadata": {},
   "outputs": [],
   "source": [
    "indices = np.random.choice(len(training_dataset), len(training_dataset)//11, replace=False)\n",
    "excluded_indices = [idx for idx in range(len(training_dataset)) if idx not in indices]\n",
    "\n",
    "# Clean dataset of selected indices\n",
    "\n",
    "clean_dataset = Subset(training_dataset, excluded_indices)\n",
    "\n",
    "# Corrupted training dataset\n",
    "size = 5\n",
    "pattern = torch.zeros([size, size], dtype=torch.uint8)\n",
    "pattern[2, :] =64\n",
    "pattern[:, 2] =64\n",
    "# pattern[::2, 1::2] = 255\n",
    "# pattern[1::2, ::2] = 255"
   ]
  },
  {
   "cell_type": "code",
   "execution_count": 5,
   "id": "dfba87e9",
   "metadata": {
    "scrolled": false
   },
   "outputs": [
    {
     "name": "stdout",
     "output_type": "stream",
     "text": [
      "len(clean_dataset)=54546, len(corrupt_dataset)=5454,  len(training_dataset)=60000\n"
     ]
    },
    {
     "data": {
      "image/png": "[encoded data removed]",
      "text/plain": [
       "<Figure size 640x480 with 1 Axes>"
      ]
     },
     "metadata": {},
     "output_type": "display_data"
    },
    {
     "data": {
      "text/plain": [
       "<matplotlib.image.AxesImage at 0x7fbe906f2fe0>"
      ]
     },
     "execution_count": 5,
     "metadata": {},
     "output_type": "execute_result"
    },
    {
     "data": {
      "image/png": "[encoded data removed]",
      "text/plain": [
       "<Figure size 640x480 with 1 Axes>"
      ]
     },
     "metadata": {},
     "output_type": "display_data"
    }
   ],
   "source": [
    "for ind in indices:    \n",
    "    training_dataset.data[ind][28-size:28,28-size:28] = pattern\n",
    "    training_dataset.targets[ind] = label\n",
    "\n",
    "# Corrupted dataset of selected indices\n",
    "\n",
    "corrupt_dataset = Subset(training_dataset, indices)\n",
    "\n",
    "print(f\"{len(clean_dataset)=}, {len(corrupt_dataset)=},  {len(training_dataset)=}\")\n",
    "plt.imshow(training_dataset.data[ind], 'gray')\n",
    "plt.show()\n",
    "plt.imshow(training_dataset.data[0], 'gray')"
   ]
  },
  {
   "cell_type": "code",
   "execution_count": 6,
   "id": "cbab932d",
   "metadata": {},
   "outputs": [],
   "source": [
    "# net = ResNet18(1).to(device)\n",
    "net = FullyConnectedNet(28 * 28, 200, 10, 5, 0.1).to(device)\n",
    "net = TinyNet().to(device)\n",
    "\n",
    "dataloader = DataLoader(training_dataset,\n",
    "                        num_workers=16,\n",
    "                        batch_size=512)\n",
    "epochs = 30\n",
    "criterion = nn.CrossEntropyLoss()\n",
    "\n",
    "net_path = f\"../checkpoints/Figure_6/{net.__class__.__name__}/cross_entropy/ckpt_0.0.pth\"\n",
    "        \n",
    "# train(net, dataloader)\n",
    "# save_net(net, net_path)"
   ]
  },
  {
   "cell_type": "markdown",
   "id": "aff740b5",
   "metadata": {},
   "source": [
    "### 1.2. Evaluation on the corrupted dataset"
   ]
  },
  {
   "cell_type": "code",
   "execution_count": 7,
   "id": "c32e380f",
   "metadata": {},
   "outputs": [],
   "source": [
    "clean_dataloader = DataLoader(clean_dataset,\n",
    "                        num_workers=8,\n",
    "                        batch_size=512)\n",
    "\n",
    "corrupt_dataloader = DataLoader(corrupt_dataset,\n",
    "                        num_workers=8,\n",
    "                        batch_size=512)\n",
    "\n",
    "training_dataset = torchvision.datasets.MNIST('../data/',\n",
    "                             train=True,\n",
    "                             download=True,\n",
    "                             transform=transform)\n",
    "\n",
    "training_dataset.data[indices] = corrupt_dataset.dataset.data[indices]\n",
    "relabel_dataset = Subset(training_dataset, indices)\n",
    "relabel_dataloader = DataLoader(relabel_dataset,\n",
    "                        num_workers=8,\n",
    "                        batch_size=512)"
   ]
  },
  {
   "cell_type": "code",
   "execution_count": 8,
   "id": "01d39030",
   "metadata": {},
   "outputs": [
    {
     "data": {
      "text/plain": [
       "<matplotlib.image.AxesImage at 0x7fbe9051fa30>"
      ]
     },
     "execution_count": 8,
     "metadata": {},
     "output_type": "execute_result"
    },
    {
     "data": {
      "image/png": "[encoded data removed]",
      "text/plain": [
       "<Figure size 640x480 with 1 Axes>"
      ]
     },
     "metadata": {},
     "output_type": "display_data"
    }
   ],
   "source": [
    "plt.imshow(training_dataset.data[indices[1]], 'gray')"
   ]
  },
  {
   "cell_type": "code",
   "execution_count": 9,
   "id": "ba953c6b",
   "metadata": {
    "scrolled": true
   },
   "outputs": [
    {
     "name": "stdout",
     "output_type": "stream",
     "text": [
      "Acc: 99.938\n",
      "Acc: 100.000\n",
      "Acc: 9.498\n"
     ]
    }
   ],
   "source": [
    "def evaluate(net, dataloader, label=None):\n",
    "    net.eval()\n",
    "    train_loss = 0\n",
    "    correct = 0\n",
    "    total = 0\n",
    "    for batch_idx, (inputs, targets) in enumerate(dataloader):\n",
    "        if label != None:\n",
    "            idx = targets == label\n",
    "            inputs, targets = inputs[idx], targets[idx]\n",
    "        inputs, targets = inputs.to(device), targets.to(device)\n",
    "        outputs = net(inputs)\n",
    "\n",
    "        _, predicted = outputs.max(1)\n",
    "        total += targets.size(0)\n",
    "        # correct += predicted.eq(targets).sum().item()\n",
    "        correct += _correct_fn(predicted, targets)\n",
    "\n",
    "    print(f\"Acc: {100.0 * correct / total:.3f}\")\n",
    "\n",
    "net = load_net(net, net_path)\n",
    "evaluate(net, clean_dataloader)\n",
    "evaluate(net, corrupt_dataloader)\n",
    "evaluate(net, relabel_dataloader)"
   ]
  },
  {
   "cell_type": "markdown",
   "id": "443616e2",
   "metadata": {},
   "source": [
    "## 2. Unlearning\n"
   ]
  },
  {
   "cell_type": "markdown",
   "id": "2fa40a73",
   "metadata": {},
   "source": [
    "### target removal data sample"
   ]
  },
  {
   "cell_type": "code",
   "execution_count": 10,
   "id": "48dbe146",
   "metadata": {},
   "outputs": [],
   "source": [
    "torch.cuda.empty_cache()\n",
    "net = load_net(net, net_path)"
   ]
  },
  {
   "cell_type": "code",
   "execution_count": 11,
   "id": "2e7892b3",
   "metadata": {},
   "outputs": [],
   "source": [
    "num_corrupt_sample = len(corrupt_dataloader.dataset)\n",
    "inputs_list = list()\n",
    "targets_list = list()\n",
    "for batch_idx, (inputs, targets) in enumerate(corrupt_dataloader):\n",
    "    inputs_list.append(inputs)\n",
    "    targets_list.append(targets)\n",
    "           \n",
    "inputs = torch.cat(inputs_list)\n",
    "targets = torch.cat(targets_list)\n",
    "\n",
    "sample_idx = np.random.choice(len(inputs), num_corrupt_sample, replace=False)\n",
    "corrupt_inputs = inputs[sample_idx]\n",
    "corrupt_targets = targets[sample_idx]"
   ]
  },
  {
   "cell_type": "code",
   "execution_count": 12,
   "id": "0132abc6",
   "metadata": {},
   "outputs": [],
   "source": [
    "num_clean_sample_batch = 200\n",
    "total_loss = 0\n",
    "for batch_idx, (inputs, targets) in enumerate(clean_dataloader):\n",
    "    if batch_idx >= num_clean_sample_batch:\n",
    "        break\n",
    "    inputs, targets = inputs.to(device), targets.to(device)\n",
    "    outputs = net(inputs)\n",
    "    loss = criterion(outputs, targets)\n",
    "    total_loss += loss\n",
    "\n",
    "total_loss /= num_clean_sample_batch"
   ]
  },
  {
   "cell_type": "code",
   "execution_count": 13,
   "id": "3a240308",
   "metadata": {},
   "outputs": [],
   "source": [
    "param_ratio = 0.1\n",
    "net_parser = selection.TopNActivations(net, param_ratio)\n",
    "net_parser.initialize_neurons()\n",
    "net_parser.register_hooks()\n",
    "\n",
    "target_loss = (\n",
    "    criterion(net(corrupt_inputs.to(device)), corrupt_targets.to(device))\n",
    "    * len(corrupt_dataloader.dataset)/ len(clean_dataloader.dataset)\n",
    ")\n",
    "if isinstance(net_parser, selection.TopNGradients):\n",
    "    target_loss.backward(ratain_graph = True)\n",
    "\n",
    "index_list = net_parser.get_parameters()\n",
    "net_parser.remove_hooks()"
   ]
  },
  {
   "cell_type": "code",
   "execution_count": 14,
   "id": "61c00189",
   "metadata": {},
   "outputs": [],
   "source": [
    "relabel_loss = 0\n",
    "for batch_idx, (inputs, targets) in enumerate(relabel_dataloader):\n",
    "    inputs, targets = inputs.to(device), targets.to(device)\n",
    "    outputs = net(inputs)\n",
    "    loss = criterion(outputs, targets)\n",
    "    relabel_loss += loss\n",
    "\n",
    "relabel_loss /= batch_idx + 1\n",
    "relabel_loss /= len(relabel_dataloader.dataset) / len(clean_dataloader.dataset)\n",
    "\n",
    "target_loss = target_loss - relabel_loss"
   ]
  },
  {
   "cell_type": "code",
   "execution_count": 15,
   "id": "8cbc58f6",
   "metadata": {
    "scrolled": false
   },
   "outputs": [
    {
     "name": "stdout",
     "output_type": "stream",
     "text": [
      "Computing partial influence ... [24/10000], Tolerance: 9.963E-02, Avg. computing time: 0.946s          \n"
     ]
    }
   ],
   "source": [
    "influence = hessians.partial_influence(\n",
    "    index_list, target_loss, total_loss, net, tol=1e-1, step=2\n",
    ")"
   ]
  },
  {
   "cell_type": "code",
   "execution_count": 16,
   "id": "a07959af",
   "metadata": {
    "scrolled": false
   },
   "outputs": [
    {
     "name": "stdout",
     "output_type": "stream",
     "text": [
      "PIF scale: 100\n",
      "Acc: 0.000\n",
      "Acc: 68.885\n",
      "Acc: 0.000\n",
      "\n",
      "PIF scale: 200\n",
      "Acc: 0.000\n",
      "Acc: 87.129\n",
      "Acc: 0.000\n",
      "\n",
      "PIF scale: 300\n",
      "Acc: 0.403\n",
      "Acc: 88.999\n",
      "Acc: 0.000\n",
      "\n",
      "PIF scale: 400\n",
      "Acc: 7.499\n",
      "Acc: 92.996\n",
      "Acc: 0.000\n",
      "\n",
      "PIF scale: 500\n",
      "Acc: 15.603\n",
      "Acc: 91.823\n",
      "Acc: 3.231\n",
      "\n",
      "PIF scale: 600\n",
      "Acc: 23.414\n",
      "Acc: 85.369\n",
      "Acc: 21.544\n",
      "\n",
      "PIF scale: 700\n",
      "Acc: 33.902\n",
      "Acc: 75.229\n",
      "Acc: 38.749\n",
      "\n",
      "PIF scale: 800\n",
      "Acc: 45.435\n",
      "Acc: 63.861\n",
      "Acc: 52.329\n",
      "\n",
      "PIF scale: 900\n",
      "Acc: 56.381\n",
      "Acc: 52.970\n",
      "Acc: 63.561\n",
      "\n",
      "Unexpected exception formatting exception. Falling back to standard exception\n"
     ]
    },
    {
     "name": "stderr",
     "output_type": "stream",
     "text": [
      "Traceback (most recent call last):\n",
      "  File \"/home/hslyu/.local/lib/python3.10/site-packages/IPython/core/interactiveshell.py\", line 3433, in run_code\n",
      "    exec(code_obj, self.user_global_ns, self.user_ns)\n",
      "  File \"/tmp/ipykernel_1982071/1404771420.py\", line 4, in <module>\n",
      "    utils.update_network(net, influence / scale, index_list)\n",
      "  File \"/home/hslyu/research/PIF/src/utils.py\", line -1, in update_network\n",
      "KeyboardInterrupt\n",
      "\n",
      "During handling of the above exception, another exception occurred:\n",
      "\n",
      "Traceback (most recent call last):\n",
      "  File \"/home/hslyu/.local/lib/python3.10/site-packages/IPython/core/interactiveshell.py\", line 2052, in showtraceback\n",
      "    stb = self.InteractiveTB.structured_traceback(\n",
      "  File \"/home/hslyu/.local/lib/python3.10/site-packages/IPython/core/ultratb.py\", line 1112, in structured_traceback\n",
      "    return FormattedTB.structured_traceback(\n",
      "  File \"/home/hslyu/.local/lib/python3.10/site-packages/IPython/core/ultratb.py\", line 1006, in structured_traceback\n",
      "    return VerboseTB.structured_traceback(\n",
      "  File \"/home/hslyu/.local/lib/python3.10/site-packages/IPython/core/ultratb.py\", line 859, in structured_traceback\n",
      "    formatted_exception = self.format_exception_as_a_whole(etype, evalue, etb, number_of_lines_of_context,\n",
      "  File \"/home/hslyu/.local/lib/python3.10/site-packages/IPython/core/ultratb.py\", line 812, in format_exception_as_a_whole\n",
      "    frames.append(self.format_record(r))\n",
      "  File \"/home/hslyu/.local/lib/python3.10/site-packages/IPython/core/ultratb.py\", line 730, in format_record\n",
      "    result += ''.join(_format_traceback_lines(frame_info.lines, Colors, self.has_colors, lvals))\n",
      "  File \"/home/hslyu/.local/lib/python3.10/site-packages/stack_data/utils.py\", line 144, in cached_property_wrapper\n",
      "    value = obj.__dict__[self.func.__name__] = self.func(obj)\n",
      "  File \"/home/hslyu/.local/lib/python3.10/site-packages/stack_data/core.py\", line 720, in lines\n",
      "    pieces = self.included_pieces\n",
      "  File \"/home/hslyu/.local/lib/python3.10/site-packages/stack_data/utils.py\", line 144, in cached_property_wrapper\n",
      "    value = obj.__dict__[self.func.__name__] = self.func(obj)\n",
      "  File \"/home/hslyu/.local/lib/python3.10/site-packages/stack_data/core.py\", line 667, in included_pieces\n",
      "    pos = scope_pieces.index(self.executing_piece)\n",
      "  File \"/home/hslyu/.local/lib/python3.10/site-packages/stack_data/utils.py\", line 144, in cached_property_wrapper\n",
      "    value = obj.__dict__[self.func.__name__] = self.func(obj)\n",
      "  File \"/home/hslyu/.local/lib/python3.10/site-packages/stack_data/core.py\", line 646, in executing_piece\n",
      "    return only(\n",
      "  File \"/home/hslyu/.local/lib/python3.10/site-packages/executing/executing.py\", line 190, in only\n",
      "    raise NotOneValueFound('Expected one value, found 0')\n",
      "executing.executing.NotOneValueFound: Expected one value, found 0\n"
     ]
    }
   ],
   "source": [
    "scale_list = np.arange(3,13) * 200\n",
    "for scale in scale_list:\n",
    "    net = load_net(net, net_path)\n",
    "    utils.update_network(net, influence / scale, index_list)\n",
    "\n",
    "    print(f\"PIF scale: {scale}\")\n",
    "    evaluate(net, corrupt_dataloader)\n",
    "    evaluate(net, relabel_dataloader)\n",
    "    evaluate(net, clean_dataloader, label)\n",
    "    print(\"\")"
   ]
  },
  {
   "cell_type": "markdown",
   "id": "46b645d8",
   "metadata": {},
   "source": [
    "## 3. Evaluation"
   ]
  },
  {
   "cell_type": "code",
   "execution_count": null,
   "id": "707995e5",
   "metadata": {},
   "outputs": [],
   "source": [
    "# param_ratio = 0.0001\n",
    "# net_parser = selection.TopNGradients(net, param_ratio)\n",
    "# net_parser.initialize_neurons()\n",
    "# net_parser.register_hooks()\n",
    "# net_parser.remove_hooks(10)\n",
    "\n",
    "# count = 0\n",
    "# emphasize_loss = 0\n",
    "# for batch_idx, (inputs, targets) in enumerate(clean_dataloader):\n",
    "#     if batch_idx > 3:\n",
    "#         break\n",
    "#     idx = targets == label\n",
    "#     inputs, targets = inputs[idx], targets[idx]\n",
    "#     inputs, targets = inputs.to(device), targets.to(device)\n",
    "#     outputs = net(inputs)\n",
    "#     loss = criterion(outputs, targets)\n",
    "\n",
    "#     count += len(inputs)\n",
    "#     emphasize_loss += loss\n",
    "# emphasize_loss /= count / len(clean_dataloader.dataset)\n",
    "\n",
    "# index_list_emphasize = net_parser.get_parameters()\n",
    "# net_parser.remove_hooks()"
   ]
  },
  {
   "cell_type": "code",
   "execution_count": null,
   "id": "f95ca520",
   "metadata": {
    "scrolled": true
   },
   "outputs": [],
   "source": [
    "# influence_emphasize = hessians.partial_influence(\n",
    "#     index_list_emphasize, emphasize_loss/10, total_loss/10, net, tol=5e-2, step=1\n",
    "# )"
   ]
  }
 ],
 "metadata": {
  "kernelspec": {
   "display_name": "Python 3 (ipykernel)",
   "language": "python",
   "name": "python3"
  },
  "language_info": {
   "codemirror_mode": {
    "name": "ipython",
    "version": 3
   },
   "file_extension": ".py",
   "mimetype": "text/x-python",
   "name": "python",
   "nbconvert_exporter": "python",
   "pygments_lexer": "ipython3",
   "version": "3.10.10"
  }
 },
 "nbformat": 4,
 "nbformat_minor": 5
}
