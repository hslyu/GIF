{
 "cells": [
  {
   "cell_type": "code",
   "execution_count": 1,
   "id": "c29c6ccf",
   "metadata": {},
   "outputs": [],
   "source": [
    "import torch\n",
    "import torchvision\n",
    "import torchvision.transforms as transforms\n",
    "from torch.utils.data import Subset, DataLoader\n",
    "import torch.backends.cudnn as cudnn\n",
    "import torch.optim as optim\n",
    "from torch import nn\n",
    "import numpy as np\n",
    "import os\n",
    "\n",
    "from dataloader import mnist\n",
    "from models import FullyConnectedNet, TinyNet\n",
    "from src import utils, selection, hessians\n",
    "import matplotlib.pyplot as plt\n",
    "\n",
    "device = \"cuda\" if torch.cuda.is_available() else \"cpu\"\n",
    "torch.manual_seed(0)\n",
    "np.random.seed(0)\n",
    "flatten=False\n",
    "label = 4"
   ]
  },
  {
   "cell_type": "code",
   "execution_count": 2,
   "id": "9e86bcb1",
   "metadata": {},
   "outputs": [],
   "source": [
    "def load_net(net, path):\n",
    "    assert os.path.isfile(path), \"Error: no checkpoint file found!\"\n",
    "    checkpoint = torch.load(path)\n",
    "    net.load_state_dict(checkpoint[\"net\"])\n",
    "    return net\n",
    "\n",
    "\n",
    "def save_net(net, path):\n",
    "    dir, filename = os.path.split(path)\n",
    "    if not os.path.isdir(dir):\n",
    "        os.makedirs(dir)\n",
    "\n",
    "    state = {\n",
    "        \"net\": net.state_dict(),\n",
    "    }\n",
    "    torch.save(state, path)\n",
    "    \n",
    "def _correct_fn(predicted: torch.Tensor, targets: torch.Tensor):\n",
    "    if targets.dim() == 1:\n",
    "        return predicted.eq(targets).sum().item()\n",
    "    elif targets.dim() == 2:\n",
    "        _, targets_decoded = targets.max(1)\n",
    "        return predicted.eq(targets_decoded).sum().item()\n",
    "    else:\n",
    "        return 0\n",
    "    \n",
    "def train(net, dataloader):\n",
    "    net.train()\n",
    "    criterion = nn.CrossEntropyLoss()\n",
    "    optimizer = optim.SGD(net.parameters(), lr=1e-1, momentum=0.9, weight_decay=5e-4)\n",
    "    scheduler = torch.optim.lr_scheduler.MultiStepLR(optimizer, milestones=[int(0.5*epochs), int(0.75*epochs)], gamma=0.1)\n",
    "    for epoch in range(epochs):\n",
    "        train_loss = 0\n",
    "        correct = 0\n",
    "        total = 0\n",
    "        for batch_idx, (inputs, targets) in enumerate(dataloader):\n",
    "            inputs, targets = inputs.to(device), targets.to(device)\n",
    "            optimizer.zero_grad()\n",
    "            outputs = net(inputs)\n",
    "\n",
    "            loss = criterion(outputs, targets)\n",
    "            loss.backward()\n",
    "            optimizer.step()\n",
    "\n",
    "            train_loss += loss.item()\n",
    "            _, predicted = outputs.max(1)\n",
    "            total += targets.size(0)\n",
    "            # correct += predicted.eq(targets).sum().item()\n",
    "            correct += _correct_fn(predicted, targets)\n",
    "        scheduler.step()\n",
    "        print(f\"Epoch {epoch} | Loss: {train_loss / (batch_idx + 1):.3f} | Acc: {100.0 * correct / total:.3f}\")"
   ]
  },
  {
   "cell_type": "markdown",
   "id": "20dd47db",
   "metadata": {},
   "source": [
    "## 1. Train Backdoored MNIST "
   ]
  },
  {
   "cell_type": "code",
   "execution_count": 3,
   "id": "7c2952e4",
   "metadata": {},
   "outputs": [],
   "source": [
    "transform = transforms.Compose([\n",
    "                transforms.ToTensor(),\n",
    "                transforms.Normalize((0.1307,), (0.3081,)),\n",
    "                transforms.Lambda(lambda x: x.view(-1) if flatten else x)\n",
    "            ])\n",
    "training_dataset = torchvision.datasets.MNIST('../data/',\n",
    "                             train=True,\n",
    "                             download=True,\n",
    "                             transform=transform)"
   ]
  },
  {
   "cell_type": "markdown",
   "id": "820f566b",
   "metadata": {},
   "source": [
    "### 1.1. Preprocessing"
   ]
  },
  {
   "cell_type": "code",
   "execution_count": 4,
   "id": "c3b74ad4",
   "metadata": {},
   "outputs": [],
   "source": [
    "indices = np.random.choice(len(training_dataset), len(training_dataset)//11, replace=False)\n",
    "excluded_indices = [idx for idx in range(len(training_dataset)) if idx not in indices]\n",
    "\n",
    "# Clean dataset of selected indices\n",
    "\n",
    "clean_dataset = Subset(training_dataset, excluded_indices)\n",
    "\n",
    "# Corrupted training dataset\n",
    "\n",
    "# pattern = torch.Tensor([[0, 255, 0],\n",
    "#                         [255, 0, 255],\n",
    "#                         [0, 255, 0]])\n",
    "\n",
    "# pattern = torch.Tensor([[16, 8, 16],\n",
    "#                         [8, 16, 8],\n",
    "#                         [16, 8, 16]])\n",
    "pattern = torch.zeros(28 * 28, dtype=torch.uint8)\n",
    "pattern = pattern.reshape(28,28)\n",
    "pattern[::2, 1::2] = 16\n",
    "pattern[1::2, ::2] = 16"
   ]
  },
  {
   "cell_type": "code",
   "execution_count": 5,
   "id": "dfba87e9",
   "metadata": {
    "scrolled": false
   },
   "outputs": [
    {
     "name": "stdout",
     "output_type": "stream",
     "text": [
      "len(clean_dataset)=54546, len(corrupt_dataset)=5454,  len(training_dataset)=60000\n"
     ]
    },
    {
     "data": {
      "image/png": "[encoded data removed]",
      "text/plain": [
       "<Figure size 640x480 with 1 Axes>"
      ]
     },
     "metadata": {},
     "output_type": "display_data"
    },
    {
     "data": {
      "text/plain": [
       "<matplotlib.image.AxesImage at 0x7efe8c4cb760>"
      ]
     },
     "execution_count": 5,
     "metadata": {},
     "output_type": "execute_result"
    },
    {
     "data": {
      "image/png": "[encoded data removed]",
      "text/plain": [
       "<Figure size 640x480 with 1 Axes>"
      ]
     },
     "metadata": {},
     "output_type": "display_data"
    }
   ],
   "source": [
    "for ind in indices:    \n",
    "#     training_dataset.data[ind][25:28,25:28] = pattern\n",
    "    training_dataset.data[ind] = torch.clamp(training_dataset.data[ind].to(torch.int) + pattern, max=255).to(torch.uint8)\n",
    "    training_dataset.targets[ind] = label\n",
    "\n",
    "# Corrupted dataset of selected indices\n",
    "\n",
    "corrupt_dataset = Subset(training_dataset, indices)\n",
    "\n",
    "print(f\"{len(clean_dataset)=}, {len(corrupt_dataset)=},  {len(training_dataset)=}\")\n",
    "plt.imshow(training_dataset.data[ind], 'gray')\n",
    "plt.show()\n",
    "plt.imshow(training_dataset.data[0], 'gray')"
   ]
  },
  {
   "cell_type": "code",
   "execution_count": 6,
   "id": "cbab932d",
   "metadata": {},
   "outputs": [
    {
     "name": "stdout",
     "output_type": "stream",
     "text": [
      "Epoch 0 | Loss: 0.704 | Acc: 77.407\n",
      "Epoch 1 | Loss: 0.126 | Acc: 96.070\n",
      "Epoch 2 | Loss: 0.092 | Acc: 97.103\n",
      "Epoch 3 | Loss: 0.076 | Acc: 97.615\n",
      "Epoch 4 | Loss: 0.067 | Acc: 97.922\n",
      "Epoch 5 | Loss: 0.061 | Acc: 98.068\n",
      "Epoch 6 | Loss: 0.057 | Acc: 98.238\n",
      "Epoch 7 | Loss: 0.043 | Acc: 98.688\n",
      "Epoch 8 | Loss: 0.039 | Acc: 98.843\n",
      "Epoch 9 | Loss: 0.038 | Acc: 98.907\n",
      "Epoch 10 | Loss: 0.037 | Acc: 98.960\n",
      "Epoch 11 | Loss: 0.035 | Acc: 99.002\n",
      "Epoch 12 | Loss: 0.035 | Acc: 99.002\n",
      "Epoch 13 | Loss: 0.034 | Acc: 99.010\n",
      "Epoch 14 | Loss: 0.034 | Acc: 99.017\n"
     ]
    }
   ],
   "source": [
    "# net = ResNet18(1).to(device)\n",
    "net = FullyConnectedNet(28 * 28, 200, 10, 5, 0.1).to(device)\n",
    "net = TinyNet().to(device)\n",
    "\n",
    "dataloader = DataLoader(training_dataset,\n",
    "                        num_workers=16,\n",
    "                        batch_size=512)\n",
    "epochs = 15\n",
    "criterion = nn.CrossEntropyLoss()\n",
    "\n",
    "net_path = f\"../checkpoints/Figure_6/{net.__class__.__name__}/cross_entropy/ckpt_0.0.pth\"\n",
    "        \n",
    "train(net, dataloader)\n",
    "save_net(net, net_path)"
   ]
  },
  {
   "cell_type": "markdown",
   "id": "aff740b5",
   "metadata": {},
   "source": [
    "### 1.2. Evaluation on the corrupted dataset"
   ]
  },
  {
   "cell_type": "code",
   "execution_count": 7,
   "id": "c32e380f",
   "metadata": {},
   "outputs": [],
   "source": [
    "clean_dataloader = DataLoader(clean_dataset,\n",
    "                        num_workers=8,\n",
    "                        batch_size=512)\n",
    "\n",
    "corrupt_dataloader = DataLoader(corrupt_dataset,\n",
    "                        num_workers=8,\n",
    "                        batch_size=512)\n",
    "\n",
    "training_dataset = torchvision.datasets.MNIST('../data/',\n",
    "                             train=True,\n",
    "                             download=True,\n",
    "                             transform=transform)\n",
    "\n",
    "training_dataset.data[indices] = corrupt_dataset.dataset.data[indices]\n",
    "relabel_dataset = Subset(training_dataset, indices)\n",
    "relabel_dataloader = DataLoader(relabel_dataset,\n",
    "                        num_workers=8,\n",
    "                        batch_size=512)"
   ]
  },
  {
   "cell_type": "code",
   "execution_count": 8,
   "id": "01d39030",
   "metadata": {},
   "outputs": [
    {
     "data": {
      "text/plain": [
       "<matplotlib.image.AxesImage at 0x7efe8c39dae0>"
      ]
     },
     "execution_count": 8,
     "metadata": {},
     "output_type": "execute_result"
    },
    {
     "data": {
      "image/png": "[encoded data removed]",
      "text/plain": [
       "<Figure size 640x480 with 1 Axes>"
      ]
     },
     "metadata": {},
     "output_type": "display_data"
    }
   ],
   "source": [
    "plt.imshow(training_dataset.data[indices[1]], 'gray')"
   ]
  },
  {
   "cell_type": "code",
   "execution_count": 9,
   "id": "ba953c6b",
   "metadata": {
    "scrolled": true
   },
   "outputs": [
    {
     "name": "stdout",
     "output_type": "stream",
     "text": [
      "Acc: 100.000\n",
      "Acc: 9.498\n"
     ]
    }
   ],
   "source": [
    "def evaluate(net, dataloader, label=None):\n",
    "    net.eval()\n",
    "    train_loss = 0\n",
    "    correct = 0\n",
    "    total = 0\n",
    "    for batch_idx, (inputs, targets) in enumerate(dataloader):\n",
    "        if label != None:\n",
    "            idx = targets == label\n",
    "            inputs, targets = inputs[idx], targets[idx]\n",
    "        inputs, targets = inputs.to(device), targets.to(device)\n",
    "        outputs = net(inputs)\n",
    "\n",
    "        _, predicted = outputs.max(1)\n",
    "        total += targets.size(0)\n",
    "        # correct += predicted.eq(targets).sum().item()\n",
    "        correct += _correct_fn(predicted, targets)\n",
    "\n",
    "    print(f\"Acc: {100.0 * correct / total:.3f}\")\n",
    "\n",
    "net = load_net(net, net_path)\n",
    "evaluate(net, corrupt_dataloader)\n",
    "evaluate(net, relabel_dataloader)"
   ]
  },
  {
   "cell_type": "markdown",
   "id": "443616e2",
   "metadata": {},
   "source": [
    "## 2. Unlearning\n"
   ]
  },
  {
   "cell_type": "markdown",
   "id": "2fa40a73",
   "metadata": {},
   "source": [
    "### target removal data sample"
   ]
  },
  {
   "cell_type": "code",
   "execution_count": 10,
   "id": "48dbe146",
   "metadata": {},
   "outputs": [],
   "source": [
    "torch.cuda.empty_cache()\n",
    "net = load_net(net, net_path)"
   ]
  },
  {
   "cell_type": "code",
   "execution_count": 11,
   "id": "2e7892b3",
   "metadata": {},
   "outputs": [],
   "source": [
    "num_corrupt_sample = len(corrupt_dataloader.dataset)\n",
    "inputs_list = list()\n",
    "targets_list = list()\n",
    "for batch_idx, (inputs, targets) in enumerate(corrupt_dataloader):\n",
    "    inputs_list.append(inputs)\n",
    "    targets_list.append(targets)\n",
    "           \n",
    "inputs = torch.cat(inputs_list)\n",
    "targets = torch.cat(targets_list)\n",
    "\n",
    "sample_idx = np.random.choice(len(inputs), num_corrupt_sample, replace=False)\n",
    "corrupt_inputs = inputs[sample_idx]\n",
    "corrupt_targets = targets[sample_idx]"
   ]
  },
  {
   "cell_type": "code",
   "execution_count": 12,
   "id": "0132abc6",
   "metadata": {},
   "outputs": [],
   "source": [
    "num_clean_sample_batch = 200\n",
    "total_loss = 0\n",
    "for batch_idx, (inputs, targets) in enumerate(clean_dataloader):\n",
    "    if batch_idx >= num_clean_sample_batch:\n",
    "        break\n",
    "    inputs, targets = inputs.to(device), targets.to(device)\n",
    "    outputs = net(inputs)\n",
    "    loss = criterion(outputs, targets)\n",
    "    total_loss += loss\n",
    "\n",
    "total_loss /= num_clean_sample_batch"
   ]
  },
  {
   "cell_type": "code",
   "execution_count": 13,
   "id": "3a240308",
   "metadata": {},
   "outputs": [],
   "source": [
    "param_ratio = 0.1\n",
    "net_parser = selection.TopNActivations(net, param_ratio)\n",
    "net_parser.initialize_neurons()\n",
    "net_parser.register_hooks()\n",
    "\n",
    "target_loss = (\n",
    "    criterion(net(corrupt_inputs.to(device)), corrupt_targets.to(device))\n",
    "    * len(corrupt_dataloader.dataset)/ len(clean_dataloader.dataset)\n",
    ")\n",
    "if isinstance(net_parser, selection.TopNGradients):\n",
    "    target_loss.backward(ratain_graph = True)\n",
    "\n",
    "index_list = net_parser.get_parameters()\n",
    "net_parser.remove_hooks()"
   ]
  },
  {
   "cell_type": "code",
   "execution_count": 14,
   "id": "61c00189",
   "metadata": {},
   "outputs": [],
   "source": [
    "relabel_loss = 0\n",
    "for batch_idx, (inputs, targets) in enumerate(relabel_dataloader):\n",
    "    inputs, targets = inputs.to(device), targets.to(device)\n",
    "    outputs = net(inputs)\n",
    "    loss = criterion(outputs, targets)\n",
    "    relabel_loss += loss\n",
    "\n",
    "relabel_loss /= batch_idx + 1\n",
    "relabel_loss /= len(relabel_dataloader.dataset) / len(clean_dataloader.dataset)\n",
    "\n",
    "target_loss = target_loss - relabel_loss"
   ]
  },
  {
   "cell_type": "code",
   "execution_count": 15,
   "id": "8cbc58f6",
   "metadata": {
    "scrolled": false
   },
   "outputs": [
    {
     "name": "stdout",
     "output_type": "stream",
     "text": [
      "Computing partial influence ... [204/10000], Tolerance: 9.991E-02, Avg. computing time: 0.019s          \n"
     ]
    }
   ],
   "source": [
    "influence = hessians.partial_influence(\n",
    "    index_list, target_loss, total_loss, net, tol=1e-1, step=2\n",
    ")"
   ]
  },
  {
   "cell_type": "code",
   "execution_count": 16,
   "id": "a07959af",
   "metadata": {
    "scrolled": false
   },
   "outputs": [
    {
     "name": "stdout",
     "output_type": "stream",
     "text": [
      "PIF scale: 200\n",
      "Acc: 85.277\n",
      "Acc: 18.335\n",
      "Acc: 99.981\n",
      "\n",
      "PIF scale: 400\n",
      "Acc: 23.451\n",
      "Acc: 71.856\n",
      "Acc: 99.418\n",
      "\n",
      "PIF scale: 600\n",
      "Acc: 13.036\n",
      "Acc: 91.988\n",
      "Acc: 99.023\n",
      "\n",
      "PIF scale: 800\n",
      "Acc: 11.038\n",
      "Acc: 95.636\n",
      "Acc: 98.760\n",
      "\n",
      "PIF scale: 1000\n",
      "Acc: 10.689\n",
      "Acc: 96.516\n",
      "Acc: 98.629\n",
      "\n",
      "PIF scale: 1200\n",
      "Acc: 10.634\n",
      "Acc: 96.773\n",
      "Acc: 98.629\n",
      "\n",
      "PIF scale: 1400\n",
      "Acc: 10.818\n",
      "Acc: 96.773\n",
      "Acc: 98.629\n",
      "\n",
      "PIF scale: 1600\n",
      "Acc: 11.166\n",
      "Acc: 96.370\n",
      "Acc: 98.666\n",
      "\n",
      "PIF scale: 1800\n",
      "Acc: 12.266\n",
      "Acc: 95.398\n",
      "Acc: 98.610\n",
      "\n"
     ]
    }
   ],
   "source": [
    "scale_list = np.arange(1,10) * 200\n",
    "for scale in scale_list:\n",
    "    net = load_net(net, net_path)\n",
    "    utils.update_network(net, influence / scale, index_list)\n",
    "\n",
    "    print(f\"PIF scale: {scale}\")\n",
    "    evaluate(net, corrupt_dataloader)\n",
    "    evaluate(net, relabel_dataloader)\n",
    "    evaluate(net, clean_dataloader, label)\n",
    "    print(\"\")"
   ]
  },
  {
   "cell_type": "markdown",
   "id": "46b645d8",
   "metadata": {},
   "source": [
    "## 3. Evaluation"
   ]
  },
  {
   "cell_type": "code",
   "execution_count": 17,
   "id": "707995e5",
   "metadata": {},
   "outputs": [],
   "source": [
    "# param_ratio = 0.0001\n",
    "# net_parser = selection.TopNGradients(net, param_ratio)\n",
    "# net_parser.initialize_neurons()\n",
    "# net_parser.register_hooks()\n",
    "# net_parser.remove_hooks(10)\n",
    "\n",
    "# count = 0\n",
    "# emphasize_loss = 0\n",
    "# for batch_idx, (inputs, targets) in enumerate(clean_dataloader):\n",
    "#     if batch_idx > 3:\n",
    "#         break\n",
    "#     idx = targets == label\n",
    "#     inputs, targets = inputs[idx], targets[idx]\n",
    "#     inputs, targets = inputs.to(device), targets.to(device)\n",
    "#     outputs = net(inputs)\n",
    "#     loss = criterion(outputs, targets)\n",
    "\n",
    "#     count += len(inputs)\n",
    "#     emphasize_loss += loss\n",
    "# emphasize_loss /= count / len(clean_dataloader.dataset)\n",
    "\n",
    "# index_list_emphasize = net_parser.get_parameters()\n",
    "# net_parser.remove_hooks()"
   ]
  },
  {
   "cell_type": "code",
   "execution_count": 18,
   "id": "f95ca520",
   "metadata": {
    "scrolled": true
   },
   "outputs": [],
   "source": [
    "# influence_emphasize = hessians.partial_influence(\n",
    "#     index_list_emphasize, emphasize_loss/10, total_loss/10, net, tol=5e-2, step=1\n",
    "# )"
   ]
  }
 ],
 "metadata": {
  "kernelspec": {
   "display_name": "Python 3 (ipykernel)",
   "language": "python",
   "name": "python3"
  },
  "language_info": {
   "codemirror_mode": {
    "name": "ipython",
    "version": 3
   },
   "file_extension": ".py",
   "mimetype": "text/x-python",
   "name": "python",
   "nbconvert_exporter": "python",
   "pygments_lexer": "ipython3",
   "version": "3.10.10"
  }
 },
 "nbformat": 4,
 "nbformat_minor": 5
}
